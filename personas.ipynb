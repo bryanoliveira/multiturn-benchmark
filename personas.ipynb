{
 "cells": [
  {
   "cell_type": "code",
   "execution_count": 1,
   "metadata": {},
   "outputs": [],
   "source": [
    "%load_ext autoreload\n",
    "%autoreload 2"
   ]
  },
  {
   "cell_type": "markdown",
   "metadata": {},
   "source": [
    "## Preparation"
   ]
  },
  {
   "cell_type": "markdown",
   "metadata": {},
   "source": [
    "### Data"
   ]
  },
  {
   "cell_type": "code",
   "execution_count": 2,
   "metadata": {},
   "outputs": [
    {
     "data": {
      "text/plain": [
       "[\"A Political Analyst specialized in El Salvador's political landscape.\",\n",
       " 'A legal advisor who understands the legal implications of incomplete or inaccurate project documentation',\n",
       " 'A maternal health advocate focused on raising awareness about postpartum complications.']"
      ]
     },
     "execution_count": 2,
     "metadata": {},
     "output_type": "execute_result"
    }
   ],
   "source": [
    "from datasets import load_dataset\n",
    "\n",
    "ds = load_dataset(\"proj-persona/PersonaHub\", \"persona\")[\"train\"][\"persona\"]\n",
    "ds[:3]"
   ]
  },
  {
   "cell_type": "markdown",
   "metadata": {},
   "source": [
    "### Model Registration"
   ]
  },
  {
   "cell_type": "code",
   "execution_count": 4,
   "metadata": {},
   "outputs": [
    {
     "data": {
      "application/vnd.jupyter.widget-view+json": {
       "model_id": "0064824a04d24aa1b67e849a6014feb6",
       "version_major": 2,
       "version_minor": 0
      },
      "text/plain": [
       "config.json:   0%|          | 0.00/916 [00:00<?, ?B/s]"
      ]
     },
     "metadata": {},
     "output_type": "display_data"
    },
    {
     "data": {
      "application/vnd.jupyter.widget-view+json": {
       "model_id": "86716da8a4ff479f9bdbb51eb6047d66",
       "version_major": 2,
       "version_minor": 0
      },
      "text/plain": [
       "configuration_internlm2.py:   0%|          | 0.00/8.84k [00:00<?, ?B/s]"
      ]
     },
     "metadata": {},
     "output_type": "display_data"
    },
    {
     "name": "stderr",
     "output_type": "stream",
     "text": [
      "A new version of the following files was downloaded from https://huggingface.co/internlm/internlm2_5-7b-chat:\n",
      "- configuration_internlm2.py\n",
      ". Make sure to double-check they do not contain any added malicious code. To avoid downloading new versions of the code file, you can pin a revision.\n"
     ]
    },
    {
     "data": {
      "application/vnd.jupyter.widget-view+json": {
       "model_id": "b97867560d674555b77584720a0e5e4f",
       "version_major": 2,
       "version_minor": 0
      },
      "text/plain": [
       "modeling_internlm2.py:   0%|          | 0.00/81.0k [00:00<?, ?B/s]"
      ]
     },
     "metadata": {},
     "output_type": "display_data"
    },
    {
     "name": "stderr",
     "output_type": "stream",
     "text": [
      "A new version of the following files was downloaded from https://huggingface.co/internlm/internlm2_5-7b-chat:\n",
      "- modeling_internlm2.py\n",
      ". Make sure to double-check they do not contain any added malicious code. To avoid downloading new versions of the code file, you can pin a revision.\n"
     ]
    },
    {
     "data": {
      "application/vnd.jupyter.widget-view+json": {
       "model_id": "cf3db2d669924a259081ec67674d70e5",
       "version_major": 2,
       "version_minor": 0
      },
      "text/plain": [
       "model.safetensors.index.json:   0%|          | 0.00/18.2k [00:00<?, ?B/s]"
      ]
     },
     "metadata": {},
     "output_type": "display_data"
    },
    {
     "data": {
      "application/vnd.jupyter.widget-view+json": {
       "model_id": "31163fabea8447ed9a4ea49a9065be76",
       "version_major": 2,
       "version_minor": 0
      },
      "text/plain": [
       "Downloading shards:   0%|          | 0/8 [00:00<?, ?it/s]"
      ]
     },
     "metadata": {},
     "output_type": "display_data"
    },
    {
     "data": {
      "application/vnd.jupyter.widget-view+json": {
       "model_id": "cc25229df7c7485190b2483324bdd76e",
       "version_major": 2,
       "version_minor": 0
      },
      "text/plain": [
       "model-00001-of-00008.safetensors:   0%|          | 0.00/1.95G [00:00<?, ?B/s]"
      ]
     },
     "metadata": {},
     "output_type": "display_data"
    },
    {
     "data": {
      "application/vnd.jupyter.widget-view+json": {
       "model_id": "3493ba70fe57467497459ee61e9a8fb7",
       "version_major": 2,
       "version_minor": 0
      },
      "text/plain": [
       "model-00002-of-00008.safetensors:   0%|          | 0.00/1.95G [00:00<?, ?B/s]"
      ]
     },
     "metadata": {},
     "output_type": "display_data"
    },
    {
     "data": {
      "application/vnd.jupyter.widget-view+json": {
       "model_id": "1c1092ecaef64b54b654147f79bf4fbe",
       "version_major": 2,
       "version_minor": 0
      },
      "text/plain": [
       "model-00003-of-00008.safetensors:   0%|          | 0.00/1.98G [00:00<?, ?B/s]"
      ]
     },
     "metadata": {},
     "output_type": "display_data"
    },
    {
     "data": {
      "application/vnd.jupyter.widget-view+json": {
       "model_id": "d2b24a8d2deb4a8dbde9af0c1ef3e309",
       "version_major": 2,
       "version_minor": 0
      },
      "text/plain": [
       "model-00004-of-00008.safetensors:   0%|          | 0.00/1.95G [00:00<?, ?B/s]"
      ]
     },
     "metadata": {},
     "output_type": "display_data"
    },
    {
     "data": {
      "application/vnd.jupyter.widget-view+json": {
       "model_id": "eb390d75ebbb4f578f094e1114817c52",
       "version_major": 2,
       "version_minor": 0
      },
      "text/plain": [
       "model-00005-of-00008.safetensors:   0%|          | 0.00/1.98G [00:00<?, ?B/s]"
      ]
     },
     "metadata": {},
     "output_type": "display_data"
    },
    {
     "data": {
      "application/vnd.jupyter.widget-view+json": {
       "model_id": "c656942ec6c9416c8f14a3492f9258f9",
       "version_major": 2,
       "version_minor": 0
      },
      "text/plain": [
       "model-00006-of-00008.safetensors:   0%|          | 0.00/1.95G [00:00<?, ?B/s]"
      ]
     },
     "metadata": {},
     "output_type": "display_data"
    },
    {
     "data": {
      "application/vnd.jupyter.widget-view+json": {
       "model_id": "1102acb8c05945249ca34159ad25cdd3",
       "version_major": 2,
       "version_minor": 0
      },
      "text/plain": [
       "model-00007-of-00008.safetensors:   0%|          | 0.00/1.98G [00:00<?, ?B/s]"
      ]
     },
     "metadata": {},
     "output_type": "display_data"
    },
    {
     "data": {
      "application/vnd.jupyter.widget-view+json": {
       "model_id": "decddaf20da44a8dbf1a8aaf1e35575a",
       "version_major": 2,
       "version_minor": 0
      },
      "text/plain": [
       "model-00008-of-00008.safetensors:   0%|          | 0.00/1.75G [00:00<?, ?B/s]"
      ]
     },
     "metadata": {},
     "output_type": "display_data"
    },
    {
     "data": {
      "application/vnd.jupyter.widget-view+json": {
       "model_id": "dfbcd629d7e744359426d7cefc23d1a8",
       "version_major": 2,
       "version_minor": 0
      },
      "text/plain": [
       "Loading checkpoint shards:   0%|          | 0/8 [00:00<?, ?it/s]"
      ]
     },
     "metadata": {},
     "output_type": "display_data"
    },
    {
     "data": {
      "application/vnd.jupyter.widget-view+json": {
       "model_id": "f4102353de2e47be8b107e8d8a17bc56",
       "version_major": 2,
       "version_minor": 0
      },
      "text/plain": [
       "generation_config.json:   0%|          | 0.00/123 [00:00<?, ?B/s]"
      ]
     },
     "metadata": {},
     "output_type": "display_data"
    },
    {
     "data": {
      "application/vnd.jupyter.widget-view+json": {
       "model_id": "b8fa2f73f4cb4aa5bdc8cb83c88f8f6d",
       "version_major": 2,
       "version_minor": 0
      },
      "text/plain": [
       "tokenizer_config.json:   0%|          | 0.00/2.51k [00:00<?, ?B/s]"
      ]
     },
     "metadata": {},
     "output_type": "display_data"
    },
    {
     "ename": "ValueError",
     "evalue": "Loading internlm/internlm2_5-7b-chat requires you to execute the configuration file in that repo on your local machine. Make sure you have read the code there to avoid malicious use, then set the option `trust_remote_code=True` to remove this error.",
     "output_type": "error",
     "traceback": [
      "\u001b[0;31m---------------------------------------------------------------------------\u001b[0m",
      "\u001b[0;31mValueError\u001b[0m                                Traceback (most recent call last)",
      "Cell \u001b[0;32mIn[4], line 12\u001b[0m\n\u001b[1;32m      5\u001b[0m instruct_model_id \u001b[38;5;241m=\u001b[39m \u001b[38;5;124m\"\u001b[39m\u001b[38;5;124minternlm/internlm2_5-7b-chat\u001b[39m\u001b[38;5;124m\"\u001b[39m\n\u001b[1;32m      6\u001b[0m instruct_model \u001b[38;5;241m=\u001b[39m transformers\u001b[38;5;241m.\u001b[39mAutoModelForCausalLM\u001b[38;5;241m.\u001b[39mfrom_pretrained(\n\u001b[1;32m      7\u001b[0m     instruct_model_id,\n\u001b[1;32m      8\u001b[0m     torch_dtype\u001b[38;5;241m=\u001b[39mtorch\u001b[38;5;241m.\u001b[39mfloat16,\n\u001b[1;32m      9\u001b[0m     device_map\u001b[38;5;241m=\u001b[39m\u001b[38;5;124m\"\u001b[39m\u001b[38;5;124mauto\u001b[39m\u001b[38;5;124m\"\u001b[39m,\n\u001b[1;32m     10\u001b[0m     trust_remote_code\u001b[38;5;241m=\u001b[39m\u001b[38;5;28;01mTrue\u001b[39;00m\n\u001b[1;32m     11\u001b[0m )\n\u001b[0;32m---> 12\u001b[0m instruct_tokenizer \u001b[38;5;241m=\u001b[39m \u001b[43mtransformers\u001b[49m\u001b[38;5;241;43m.\u001b[39;49m\u001b[43mAutoTokenizer\u001b[49m\u001b[38;5;241;43m.\u001b[39;49m\u001b[43mfrom_pretrained\u001b[49m\u001b[43m(\u001b[49m\u001b[43minstruct_model_id\u001b[49m\u001b[43m)\u001b[49m\n\u001b[1;32m     13\u001b[0m instruct_model\u001b[38;5;241m.\u001b[39meval()\n\u001b[1;32m     15\u001b[0m \u001b[38;5;66;03m# base_model_id = \"meta-llama/Llama-3.2-3B\"\u001b[39;00m\n\u001b[1;32m     16\u001b[0m \u001b[38;5;66;03m# base_model = transformers.AutoModelForCausalLM.from_pretrained(\u001b[39;00m\n\u001b[1;32m     17\u001b[0m \u001b[38;5;66;03m#     base_model_id,\u001b[39;00m\n\u001b[0;32m   (...)\u001b[0m\n\u001b[1;32m     21\u001b[0m \u001b[38;5;66;03m# base_tokenizer = transformers.AutoTokenizer.from_pretrained(base_model_id)\u001b[39;00m\n\u001b[1;32m     22\u001b[0m \u001b[38;5;66;03m# base_model.eval()\u001b[39;00m\n",
      "File \u001b[0;32m~/miniconda3/envs/llm/lib/python3.9/site-packages/transformers/models/auto/tokenization_auto.py:879\u001b[0m, in \u001b[0;36mAutoTokenizer.from_pretrained\u001b[0;34m(cls, pretrained_model_name_or_path, *inputs, **kwargs)\u001b[0m\n\u001b[1;32m    871\u001b[0m has_remote_code \u001b[38;5;241m=\u001b[39m tokenizer_auto_map \u001b[38;5;129;01mis\u001b[39;00m \u001b[38;5;129;01mnot\u001b[39;00m \u001b[38;5;28;01mNone\u001b[39;00m\n\u001b[1;32m    872\u001b[0m has_local_code \u001b[38;5;241m=\u001b[39m \u001b[38;5;28mtype\u001b[39m(config) \u001b[38;5;129;01min\u001b[39;00m TOKENIZER_MAPPING \u001b[38;5;129;01mor\u001b[39;00m (\n\u001b[1;32m    873\u001b[0m     config_tokenizer_class \u001b[38;5;129;01mis\u001b[39;00m \u001b[38;5;129;01mnot\u001b[39;00m \u001b[38;5;28;01mNone\u001b[39;00m\n\u001b[1;32m    874\u001b[0m     \u001b[38;5;129;01mand\u001b[39;00m (\n\u001b[0;32m   (...)\u001b[0m\n\u001b[1;32m    877\u001b[0m     )\n\u001b[1;32m    878\u001b[0m )\n\u001b[0;32m--> 879\u001b[0m trust_remote_code \u001b[38;5;241m=\u001b[39m \u001b[43mresolve_trust_remote_code\u001b[49m\u001b[43m(\u001b[49m\n\u001b[1;32m    880\u001b[0m \u001b[43m    \u001b[49m\u001b[43mtrust_remote_code\u001b[49m\u001b[43m,\u001b[49m\u001b[43m \u001b[49m\u001b[43mpretrained_model_name_or_path\u001b[49m\u001b[43m,\u001b[49m\u001b[43m \u001b[49m\u001b[43mhas_local_code\u001b[49m\u001b[43m,\u001b[49m\u001b[43m \u001b[49m\u001b[43mhas_remote_code\u001b[49m\n\u001b[1;32m    881\u001b[0m \u001b[43m\u001b[49m\u001b[43m)\u001b[49m\n\u001b[1;32m    883\u001b[0m \u001b[38;5;28;01mif\u001b[39;00m has_remote_code \u001b[38;5;129;01mand\u001b[39;00m trust_remote_code:\n\u001b[1;32m    884\u001b[0m     \u001b[38;5;28;01mif\u001b[39;00m use_fast \u001b[38;5;129;01mand\u001b[39;00m tokenizer_auto_map[\u001b[38;5;241m1\u001b[39m] \u001b[38;5;129;01mis\u001b[39;00m \u001b[38;5;129;01mnot\u001b[39;00m \u001b[38;5;28;01mNone\u001b[39;00m:\n",
      "File \u001b[0;32m~/miniconda3/envs/llm/lib/python3.9/site-packages/transformers/dynamic_module_utils.py:678\u001b[0m, in \u001b[0;36mresolve_trust_remote_code\u001b[0;34m(trust_remote_code, model_name, has_local_code, has_remote_code)\u001b[0m\n\u001b[1;32m    675\u001b[0m         _raise_timeout_error(\u001b[38;5;28;01mNone\u001b[39;00m, \u001b[38;5;28;01mNone\u001b[39;00m)\n\u001b[1;32m    677\u001b[0m \u001b[38;5;28;01mif\u001b[39;00m has_remote_code \u001b[38;5;129;01mand\u001b[39;00m \u001b[38;5;129;01mnot\u001b[39;00m has_local_code \u001b[38;5;129;01mand\u001b[39;00m \u001b[38;5;129;01mnot\u001b[39;00m trust_remote_code:\n\u001b[0;32m--> 678\u001b[0m     \u001b[38;5;28;01mraise\u001b[39;00m \u001b[38;5;167;01mValueError\u001b[39;00m(\n\u001b[1;32m    679\u001b[0m         \u001b[38;5;124mf\u001b[39m\u001b[38;5;124m\"\u001b[39m\u001b[38;5;124mLoading \u001b[39m\u001b[38;5;132;01m{\u001b[39;00mmodel_name\u001b[38;5;132;01m}\u001b[39;00m\u001b[38;5;124m requires you to execute the configuration file in that\u001b[39m\u001b[38;5;124m\"\u001b[39m\n\u001b[1;32m    680\u001b[0m         \u001b[38;5;124m\"\u001b[39m\u001b[38;5;124m repo on your local machine. Make sure you have read the code there to avoid malicious use, then\u001b[39m\u001b[38;5;124m\"\u001b[39m\n\u001b[1;32m    681\u001b[0m         \u001b[38;5;124m\"\u001b[39m\u001b[38;5;124m set the option `trust_remote_code=True` to remove this error.\u001b[39m\u001b[38;5;124m\"\u001b[39m\n\u001b[1;32m    682\u001b[0m     )\n\u001b[1;32m    684\u001b[0m \u001b[38;5;28;01mreturn\u001b[39;00m trust_remote_code\n",
      "\u001b[0;31mValueError\u001b[0m: Loading internlm/internlm2_5-7b-chat requires you to execute the configuration file in that repo on your local machine. Make sure you have read the code there to avoid malicious use, then set the option `trust_remote_code=True` to remove this error."
     ]
    }
   ],
   "source": [
    "import torch\n",
    "import transformers\n",
    "\n",
    "# instruct_model_id = \"meta-llama/Llama-3.2-3B-Instruct\"\n",
    "instruct_model_id = \"internlm/internlm2_5-7b-chat\"\n",
    "instruct_model = transformers.AutoModelForCausalLM.from_pretrained(\n",
    "    instruct_model_id,\n",
    "    torch_dtype=torch.float16,\n",
    "    device_map=\"auto\",\n",
    "    trust_remote_code=True\n",
    ")\n",
    "instruct_tokenizer = transformers.AutoTokenizer.from_pretrained(instruct_model_id)\n",
    "instruct_model.eval()\n",
    "\n",
    "# base_model_id = \"meta-llama/Llama-3.2-3B\"\n",
    "# base_model = transformers.AutoModelForCausalLM.from_pretrained(\n",
    "#     base_model_id,\n",
    "#     torch_dtype=torch.bfloat16,\n",
    "#     device_map=\"auto\"\n",
    "# )\n",
    "# base_tokenizer = transformers.AutoTokenizer.from_pretrained(base_model_id)\n",
    "# base_model.eval()"
   ]
  },
  {
   "cell_type": "code",
   "execution_count": 5,
   "metadata": {},
   "outputs": [],
   "source": [
    "# base_pipeline = transformers.pipeline(\n",
    "#     \"text-generation\",\n",
    "#     model=base_model,\n",
    "#     tokenizer=base_tokenizer,\n",
    "#     torch_dtype=torch.bfloat16,\n",
    "#     device_map=\"auto\"\n",
    "# )\n",
    "\n",
    "instruct_pipeline = transformers.pipeline(\n",
    "    \"text-generation\",\n",
    "    model=instruct_model,\n",
    "    tokenizer=instruct_tokenizer,\n",
    "    torch_dtype=torch.bfloat16,\n",
    "    device_map=\"auto\"\n",
    ")"
   ]
  },
  {
   "cell_type": "code",
   "execution_count": 6,
   "metadata": {},
   "outputs": [],
   "source": [
    "from transformers import StoppingCriteria, StoppingCriteriaList\n",
    "\n",
    "class StrStoppingCriteria(StoppingCriteria):\n",
    "    def __init__(self, tokenizer, start_length, stop_str):\n",
    "        self.tokenizer = tokenizer\n",
    "        self.start_length = start_length\n",
    "        self.stop_str = stop_str\n",
    "\n",
    "    def __call__(self, input_ids, scores, **kwargs):\n",
    "        return self.stop_str in self.tokenizer.decode(input_ids[0][self.start_length :], skip_special_tokens=True)"
   ]
  },
  {
   "cell_type": "markdown",
   "metadata": {},
   "source": [
    "### Persona and Guidelines"
   ]
  },
  {
   "cell_type": "code",
   "execution_count": 8,
   "metadata": {},
   "outputs": [],
   "source": [
    "# judge_history = [\n",
    "#     {\n",
    "#         \"role\": \"system\",\n",
    "#         \"content\": f\"You are {ds[0][0].lower()}{ds[0][1:].rstrip('.!?').lower()}. \"\n",
    "#         + \"The user will try to discover your persona by asking you questions. \"\n",
    "#         + \"Answer as truthfully as possible. Be brief and don't give away information that the user didn't ask.\",\n",
    "#     },\n",
    "#     {\n",
    "#         \"role\": \"user\",\n",
    "#         \"content\": \"What does success look like for you?\",\n",
    "#     },\n",
    "# ]\n",
    "# print(judge_history[0][\"content\"] + \"\\n\\n\")\n",
    "# judge_response = instruct_pipeline(\n",
    "#     judge_history,\n",
    "#     max_new_tokens=200,\n",
    "#     pad_token_id=instruct_pipeline.tokenizer.eos_token_id,\n",
    "# )\n",
    "# print(f\"{judge_response[0]['generated_text'][-1]['content']}\")"
   ]
  },
  {
   "cell_type": "code",
   "execution_count": 9,
   "metadata": {},
   "outputs": [],
   "source": [
    "# message = (\n",
    "#     f\"You are {ds[0][0].lower()}{ds[0][1:].rstrip('.!?').lower()}. \"\n",
    "#     + \"Today is a typical monday. You are at work and you want to\"\n",
    "# )\n",
    "# judge_response = instruct_pipeline(\n",
    "#     message,\n",
    "#     max_new_tokens=200,\n",
    "#     pad_token_id=instruct_pipeline.tokenizer.eos_token_id,\n",
    "# )\n",
    "# print(f\"{judge_response[0]['generated_text']}\")"
   ]
  },
  {
   "cell_type": "code",
   "execution_count": 7,
   "metadata": {},
   "outputs": [
    {
     "name": "stderr",
     "output_type": "stream",
     "text": [
      "Starting from v4.46, the `logits` model output will have the same type as the model (except at train time, where it will always be FP32)\n"
     ]
    }
   ],
   "source": [
    "i1 = 0\n",
    "i2 = 1\n",
    "persona1 = ds[i1].lower() + ds[i1][1:].rstrip('.!?').lower()\n",
    "persona2 = ds[i2].lower() + ds[i2][1:].rstrip('.!?').lower()\n",
    "\n",
    "messages = [\n",
    "    {\n",
    "        \"role\": \"user\",\n",
    "        \"content\": f\"\"\"Consider these two personas:\n",
    "{persona1}\n",
    "{persona2}\n",
    "\n",
    "They sent the same message to a digital assistant to solve a problem they are facing. What was the message sent?\n",
    "\"\"\"\n",
    "    },\n",
    "    # {\n",
    "    #     \"role\": \"assistant\",\n",
    "    #     \"content\": '```{\"persona\": \"%s\", \"goal\": \"' % persona\n",
    "    # }\n",
    "]\n",
    "judge_response = instruct_pipeline(\n",
    "    text_inputs=messages,\n",
    "    # continue_final_message=True,\n",
    "    max_new_tokens=1000,\n",
    "    pad_token_id=instruct_pipeline.tokenizer.eos_token_id,\n",
    ")\n",
    "for message in judge_response[0]['generated_text']:\n",
    "    print(f\"{message['role']}: {message['content']}\")\n",
    "    print(\"\\n\")"
   ]
  },
  {
   "cell_type": "code",
   "execution_count": 8,
   "metadata": {},
   "outputs": [],
   "source": [
    "import json\n",
    "\n",
    "\n",
    "def generate_setting(persona):\n",
    "    # fist character lower case\n",
    "    persona = persona[0].lower() + persona[1:].rstrip('.!?').lower()\n",
    "\n",
    "    messages = [\n",
    "        {\n",
    "            \"role\": \"system\",\n",
    "            \"content\": \"\"\"You are tasked with creating elements for a chat-based problem-solving scenario. The user will assume a persona and will chat with a digital assistant. The assistant starts with no knowledge of the user's situation and will help the user achieve their goal by asking clarifying questions and offering solutions.\n",
    "\n",
    "    Based on the user's persona, you will:\n",
    "\n",
    "    1. Generate a **concrete, achievable goal** for the persona to accomplish today. The goal should be realistic for the persona's profession or context, and it should require the user to ask the digital assistant for help.\n",
    "\n",
    "    2. Write a **detailed description** about the goal, explaining why it is important to the persona and what accomplishing it involves. Emphasize any time-sensitive aspects of the goal.\n",
    "\n",
    "    3. Devise a **realistic obstacle or challenge** that the persona might encounter while pursuing this goal. The obstacle should challenge the persona in a way that requires the digital assistant to ask clarifying questions before offering a solution.\n",
    "\n",
    "    4. Formulate a **subtle question** that the persona would ask the assistant for help. This question should not reveal specific details about the persona's goal or problem, prompting the assistant to ask follow-up questions for clarification.\n",
    "\n",
    "    5. Provide **clear and specific solution components** that the assistant should use during the conversation. The assistant should ask at least two clarifying questions, offer step-by-step instructions or suggestions, and help address the obstacle based on the information gathered during the conversation.\n",
    "\n",
    "    **Important**: The assistant does not know any details about the persona’s project, goal, or problem until the persona shares them during the conversation.\n",
    "\n",
    "    Format your response in JSON with these keys: `persona`, `goal`, `description`, `obstacle`, `question`, `solution`. Do not add any other text. Ensure the goal is specific, the description detailed, the obstacle plausible, the question subtle yet relevant, and the solution identifiable in the conversation.\n",
    "\n",
    "    Example output:\n",
    "\n",
    "    {\n",
    "    \"persona\": \"a marketing director of a small tech company\",\n",
    "    \"goal\": \"Create a detailed presentation on the company's new marketplace app\",\n",
    "    \"description\": \"The app will be pitched to investors tomorrow, and the presentation must include detailed market analysis, growth projections, and product features. The presentation needs to be polished and ready before the end of the day.\",\n",
    "    \"obstacle\": \"The market analysis data has missing sections, and the director isn’t sure if the projections are accurate.\",\n",
    "    \"question\": \"How do I make this presentation as effective as possible?\",\n",
    "    \"solution\": \"The assistant should ask clarifying questions like: 'What is the presentation about?' and 'Are you missing any critical information to complete it?' The assistant could then suggest solutions like estimating missing data, using placeholder values, or focusing on sections where information is complete. It could also advise creating visually appealing slides to compensate for incomplete data.\"\n",
    "    }\"\"\"\n",
    "        },\n",
    "        {\n",
    "            \"role\": \"user\",\n",
    "            \"content\": f\"Create elements for {persona}.\"\n",
    "        },\n",
    "        {\n",
    "            \"role\": \"assistant\",\n",
    "            \"content\": '```{\"persona\": \"%s\", \"goal\": \"' % persona\n",
    "        }\n",
    "    ]\n",
    "    judge_response = instruct_pipeline(\n",
    "        text_inputs=messages,\n",
    "        continue_final_message=True,\n",
    "        max_new_tokens=1000,\n",
    "        pad_token_id=instruct_pipeline.tokenizer.eos_token_id,\n",
    "    )\n",
    "    # for message in judge_response[0]['generated_text']:\n",
    "    #     print(f\"{message['role']}: {message['content']}\")\n",
    "    #     print(\"\\n\")\n",
    "\n",
    "    content = judge_response[0]['generated_text'][-1]['content']\n",
    "    content = content.strip('`')\n",
    "    return json.loads(content)\n",
    "\n",
    "# setting = generate_setting(ds[0])"
   ]
  },
  {
   "cell_type": "code",
   "execution_count": 9,
   "metadata": {},
   "outputs": [],
   "source": [
    "# import torch\n",
    "\n",
    "# i = 1\n",
    "\n",
    "# messages = [\n",
    "#     (\n",
    "#         \"The following is a description of a character. Each statement is placed in a single line.\\n\"\n",
    "#         f\"You are {ds[i][0].lower()}{ds[i][1:].rstrip('.!?').lower()}.\\n\"\n",
    "#         + \"Today, your goal is to\"\n",
    "#     ),\n",
    "#     \"A question in your mind is \\\"\",\n",
    "#     \"Trying to answer it, you open a chat with your personal assistant and say \\\"\",\n",
    "# ]\n",
    "# history = \"\"\n",
    "# # torch.manual_seed(42)\n",
    "# for message in messages:\n",
    "#     history += message\n",
    "#     judge_response = base_pipeline(\n",
    "#         history,\n",
    "#         return_full_text=False,\n",
    "#         max_new_tokens=200,\n",
    "#         pad_token_id=base_pipeline.tokenizer.eos_token_id,\n",
    "#         stopping_criteria=StoppingCriteriaList(\n",
    "#             [\n",
    "#                 StrStoppingCriteria(base_pipeline.tokenizer, len(base_pipeline.tokenizer.encode(history)), '\\n')\n",
    "#             ]\n",
    "#         ),\n",
    "#     )\n",
    "#     history += judge_response[0]['generated_text']\n",
    "\n",
    "# print(history)"
   ]
  },
  {
   "cell_type": "code",
   "execution_count": 10,
   "metadata": {},
   "outputs": [],
   "source": [
    "def generate_chat(setting, max_turns=5, debug=False):\n",
    "    assistant_history = [\n",
    "        {\n",
    "            \"role\": \"system\",\n",
    "            \"content\": (f\"You are {setting['persona']}. Your goal is: {setting['goal']}. {setting['description'].rstrip('.!?')}. \"\n",
    "                        + f\"You are currently facing this obstacle: {setting['obstacle'].rstrip('.!?')}. You are in a hurry and must solve this ASAP.\"\n",
    "                        + f\"You asked the user: {setting['question']}\\nThe user will try to help you achieve your goal. Your messages to the user are always short and to the point.\"),\n",
    "        },\n",
    "    ]\n",
    "    user_history = [\n",
    "        {\n",
    "            \"role\": \"system\",\n",
    "            \"content\": \"You are a helpful assistant. Your responses are always concise and to the point.\",\n",
    "        },\n",
    "        {\n",
    "            \"role\": \"user\",\n",
    "            \"content\": setting['question'],\n",
    "        },\n",
    "    ]\n",
    "\n",
    "    if debug:\n",
    "        print(\"USER SYSTEM: \", user_history[0][\"content\"])\n",
    "        print(\"JUDGE SYSTEM: \", assistant_history[0][\"content\"])\n",
    "        print(\"-\" * 10)\n",
    "\n",
    "    for i in range(max_turns):\n",
    "        user_response = instruct_pipeline(\n",
    "            user_history,\n",
    "            max_new_tokens=1000,\n",
    "            pad_token_id=instruct_pipeline.tokenizer.eos_token_id,\n",
    "        )[0][\"generated_text\"][-1][\"content\"]\n",
    "\n",
    "        if debug:\n",
    "            print(f\"{i+1} - USER: {user_response}\")\n",
    "\n",
    "        assistant_history.append({\"role\": \"user\", \"content\": user_response})\n",
    "        user_history.append({\"role\": \"assistant\", \"content\": user_response})\n",
    "\n",
    "        judge_response = instruct_pipeline(\n",
    "            assistant_history,\n",
    "            max_new_tokens=200,\n",
    "            pad_token_id=instruct_pipeline.tokenizer.eos_token_id,\n",
    "        )[0][\"generated_text\"][-1][\"content\"]\n",
    "\n",
    "        if debug:\n",
    "            print(f\"\\n\\n{i+1} - JUDGE: {judge_response}\")\n",
    "\n",
    "        assistant_history += [{\"role\": \"assistant\", \"content\": judge_response}]\n",
    "        user_history += [{\"role\": \"user\", \"content\": judge_response}]\n",
    "\n",
    "    user_response = instruct_pipeline(\n",
    "        user_history,\n",
    "        max_new_tokens=200,\n",
    "        pad_token_id=instruct_pipeline.tokenizer.eos_token_id,\n",
    "    )[0][\"generated_text\"][-1][\"content\"]\n",
    "\n",
    "    if debug:\n",
    "        print(f\"{max_turns} - USER: {user_response}\")\n",
    "\n",
    "    return user_history, assistant_history\n",
    "\n",
    "# user_history, assistant_history = generate_chat(setting, debug=True)"
   ]
  },
  {
   "cell_type": "code",
   "execution_count": 11,
   "metadata": {},
   "outputs": [],
   "source": [
    "def get_verdict(setting, user_history):\n",
    "    return instruct_pipeline(\n",
    "        [\n",
    "            {\n",
    "                \"role\": \"user\",\n",
    "                \"content\": f\"\"\"Consider the following information about the user:\n",
    "User persona: {setting['persona']}\n",
    "User goal: {setting['goal']}\n",
    "Goal description: {setting['description']}\n",
    "Obstacle: {setting['obstacle']}\n",
    "\n",
    "Evaluate the following conversation considering these guidelines:\n",
    "{setting['solution']}\n",
    "For each instruction, provide a score between Bad, Neutral, and Good. Be objective. Your response should be in JSON format, like this: ```{{\"<instruction>\": \"<score>\", \"<instruction>\": \"<score>\", ...}}```.\n",
    "\n",
    "Here's the full conversation:\n",
    "\"\"\" + '\\n'.join([f\"{'User' if msg['role'] == 'user' else 'Assistant'}: {msg['content']}\" for msg in user_history[1:]])\n",
    "        }\n",
    "        ],\n",
    "        max_new_tokens=200,\n",
    "        pad_token_id=instruct_pipeline.tokenizer.eos_token_id,\n",
    "    )[0][\"generated_text\"][-1][\"content\"]\n",
    "\n",
    "# get_verdict(setting, user_history)"
   ]
  },
  {
   "cell_type": "code",
   "execution_count": 28,
   "metadata": {},
   "outputs": [
    {
     "name": "stderr",
     "output_type": "stream",
     "text": [
      "  0%|          | 0/5 [00:00<?, ?it/s]"
     ]
    },
    {
     "name": "stdout",
     "output_type": "stream",
     "text": [
      "system: You are tasked with creating elements for a chat-based problem-solving scenario. The user will assume a persona and will chat with a digital assistant. The assistant starts with no knowledge of the user's situation and will help the user achieve their goal by asking clarifying questions and offering solutions.\n",
      "\n",
      "    Based on the user's persona, you will:\n",
      "\n",
      "    1. Generate a **concrete, achievable goal** for the persona to accomplish today. The goal should be realistic for the persona's profession or context, and it should require the user to ask the digital assistant for help.\n",
      "\n",
      "    2. Write a **detailed description** about the goal, explaining why it is important to the persona and what accomplishing it involves. Emphasize any time-sensitive aspects of the goal.\n",
      "\n",
      "    3. Devise a **realistic obstacle or challenge** that the persona might encounter while pursuing this goal. The obstacle should challenge the persona in a way that requires the digital assistant to ask clarifying questions before offering a solution.\n",
      "\n",
      "    4. Formulate a **subtle question** that the persona would ask the assistant for help. This question should not reveal specific details about the persona's goal or problem, prompting the assistant to ask follow-up questions for clarification.\n",
      "\n",
      "    5. Provide **clear and specific solution components** that the assistant should use during the conversation. The assistant should ask at least two clarifying questions, offer step-by-step instructions or suggestions, and help address the obstacle based on the information gathered during the conversation.\n",
      "\n",
      "    **Important**: The assistant does not know any details about the persona’s project, goal, or problem until the persona shares them during the conversation.\n",
      "\n",
      "    Format your response in JSON with these keys: `persona`, `goal`, `description`, `obstacle`, `question`, `solution`. Do not add any other text. Ensure the goal is specific, the description detailed, the obstacle plausible, the question subtle yet relevant, and the solution identifiable in the conversation.\n",
      "\n",
      "    Example output:\n",
      "\n",
      "    {\n",
      "    \"persona\": \"a marketing director of a small tech company\",\n",
      "    \"goal\": \"Create a detailed presentation on the company's new marketplace app\",\n",
      "    \"description\": \"The app will be pitched to investors tomorrow, and the presentation must include detailed market analysis, growth projections, and product features. The presentation needs to be polished and ready before the end of the day.\",\n",
      "    \"obstacle\": \"The market analysis data has missing sections, and the director isn’t sure if the projections are accurate.\",\n",
      "    \"question\": \"How do I make this presentation as effective as possible?\",\n",
      "    \"solution\": \"The assistant should ask clarifying questions like: 'What is the presentation about?' and 'Are you missing any critical information to complete it?' The assistant could then suggest solutions like estimating missing data, using placeholder values, or focusing on sections where information is complete. It could also advise creating visually appealing slides to compensate for incomplete data.\"\n",
      "    }\n",
      "\n",
      "\n",
      "user: Create elements for a political analyst specialized in el salvador's political landscape.\n",
      "\n",
      "\n",
      "assistant: ```{\"persona\": \"a political analyst specialized in el salvador's political landscape\", \"goal\": \"Publish a comprehensive report on the implications of the recent legislative elections in El Salvador\", \"description\": \"The report must analyze the election results, assess the impact on the country's political landscape, and provide recommendations for the upcoming government formation. The report is due in two weeks, and the analyst needs to ensure it meets the client's high standards. The election results are still being finalized, and the analyst is awaiting official data to begin analysis.\", \"obstacle\": \"The analyst is struggling to find reliable sources of information on the election results, particularly regarding the voting patterns in rural areas, which could significantly impact the outcome of the report.\", \"question\": \"How can I ensure the accuracy and completeness of my analysis when working with incomplete data?\", \"solution\": \"The assistant should ask clarifying questions like: 'What specific aspects of the election results are you struggling to access?' and 'Have you considered using alternative sources, such as surveys or expert opinions, to supplement the data?' The assistant could then suggest solutions like: (1) reaching out to local election officials for clarification on voting patterns in rural areas, (2) using publicly available data on voting trends from previous elections, or (3) consulting with experts in the field to gain a deeper understanding of the implications of the election results.\"}```\n",
      "\n",
      "\n"
     ]
    },
    {
     "name": "stderr",
     "output_type": "stream",
     "text": [
      " 20%|██        | 1/5 [02:33<10:13, 153.47s/it]"
     ]
    },
    {
     "name": "stdout",
     "output_type": "stream",
     "text": [
      "```json\n",
      "{\"assistant_score\": \"Good\", \"user_score\": \"Good\", \"conversation_score\": \"Good\", \"evaluation\": \"The conversation was informative and helpful in addressing the user's questions. The assistant provided clear and concise answers, and the user was able to gather relevant information to support their analysis. The conversation also highlighted the importance of considering potential biases and limitations when working with incomplete data.\"}\n",
      "```\n",
      "\n",
      "The conversation was informative and helpful in addressing the user's questions. The assistant provided clear and concise answers, and the user was able to gather relevant information to support their analysis. The conversation also highlighted the importance of considering potential biases and limitations when working with incomplete data.\n",
      "\n",
      "The assistant asked clarifying questions to ensure the user understood the context and scope of the analysis, and provided suggestions for data sources and methods to use. The user was able to provide additional context and clarify their goals and objectives, which helped the assistant provide more tailored advice.\n",
      "\n",
      "The conversation also highlighted the importance of considering potential\n",
      "system: You are tasked with creating elements for a chat-based problem-solving scenario. The user will assume a persona and will chat with a digital assistant. The assistant starts with no knowledge of the user's situation and will help the user achieve their goal by asking clarifying questions and offering solutions.\n",
      "\n",
      "    Based on the user's persona, you will:\n",
      "\n",
      "    1. Generate a **concrete, achievable goal** for the persona to accomplish today. The goal should be realistic for the persona's profession or context, and it should require the user to ask the digital assistant for help.\n",
      "\n",
      "    2. Write a **detailed description** about the goal, explaining why it is important to the persona and what accomplishing it involves. Emphasize any time-sensitive aspects of the goal.\n",
      "\n",
      "    3. Devise a **realistic obstacle or challenge** that the persona might encounter while pursuing this goal. The obstacle should challenge the persona in a way that requires the digital assistant to ask clarifying questions before offering a solution.\n",
      "\n",
      "    4. Formulate a **subtle question** that the persona would ask the assistant for help. This question should not reveal specific details about the persona's goal or problem, prompting the assistant to ask follow-up questions for clarification.\n",
      "\n",
      "    5. Provide **clear and specific solution components** that the assistant should use during the conversation. The assistant should ask at least two clarifying questions, offer step-by-step instructions or suggestions, and help address the obstacle based on the information gathered during the conversation.\n",
      "\n",
      "    **Important**: The assistant does not know any details about the persona’s project, goal, or problem until the persona shares them during the conversation.\n",
      "\n",
      "    Format your response in JSON with these keys: `persona`, `goal`, `description`, `obstacle`, `question`, `solution`. Do not add any other text. Ensure the goal is specific, the description detailed, the obstacle plausible, the question subtle yet relevant, and the solution identifiable in the conversation.\n",
      "\n",
      "    Example output:\n",
      "\n",
      "    {\n",
      "    \"persona\": \"a marketing director of a small tech company\",\n",
      "    \"goal\": \"Create a detailed presentation on the company's new marketplace app\",\n",
      "    \"description\": \"The app will be pitched to investors tomorrow, and the presentation must include detailed market analysis, growth projections, and product features. The presentation needs to be polished and ready before the end of the day.\",\n",
      "    \"obstacle\": \"The market analysis data has missing sections, and the director isn’t sure if the projections are accurate.\",\n",
      "    \"question\": \"How do I make this presentation as effective as possible?\",\n",
      "    \"solution\": \"The assistant should ask clarifying questions like: 'What is the presentation about?' and 'Are you missing any critical information to complete it?' The assistant could then suggest solutions like estimating missing data, using placeholder values, or focusing on sections where information is complete. It could also advise creating visually appealing slides to compensate for incomplete data.\"\n",
      "    }\n",
      "\n",
      "\n",
      "user: Create elements for a legal advisor who understands the legal implications of incomplete or inaccurate project documentation.\n",
      "\n",
      "\n",
      "assistant: ```{\"persona\": \"a legal advisor who understands the legal implications of incomplete or inaccurate project documentation\", \"goal\": \"Develop a comprehensive project agreement that outlines all terms and conditions for a new client project\", \"description\": \"The new client project involves a significant investment and a complex scope of work. The legal advisor needs to ensure that the project agreement protects both the client and the company, and that all parties are aware of their responsibilities and obligations. The agreement must be finalized by the end of the week, as the project is expected to start soon.\", \"obstacle\": \"The client has requested a very short timeline for the project agreement, which may not allow sufficient time for a thorough review and negotiation of the terms and conditions. Additionally, the client has expressed concerns about the costs associated with the project, and the legal advisor is not sure how to address these concerns in a way that is fair to both parties.\", \"question\": \"How can I ensure that the project agreement is comprehensive and protects both the client and the company, while also addressing the client's concerns about costs?\", \"solution\": \"The assistant should ask clarifying questions like: 'What specific concerns does the client have about costs?' and 'What are the key terms and conditions that need to be included in the agreement?' The assistant could then suggest solutions like negotiating a cost-sharing agreement, including a clause for contingencies, or drafting a clear and transparent pricing structure. The assistant could also advise on the importance of including a dispute resolution clause, and suggest potential mediation or arbitration options.\"}```\n",
      "\n",
      "\n"
     ]
    },
    {
     "name": "stderr",
     "output_type": "stream",
     "text": [
      " 40%|████      | 2/5 [05:25<08:13, 164.59s/it]"
     ]
    },
    {
     "name": "stdout",
     "output_type": "stream",
     "text": [
      "```json\n",
      "{\"Clarifying Questions\": \"Good\", \n",
      "\"Providing Solutions\": \"Good\", \n",
      "\"Advising on Legal Implications\": \"Good\", \n",
      "\"Drafting Documents\": \"Good\", \n",
      "\"Revising Documents\": \"Good\", \n",
      "\"Ensuring Client Understanding\": \"Good\"}\n",
      "```\n",
      "\n",
      "The assistant has provided a comprehensive and well-structured response to the user's questions and concerns. The assistant has asked clarifying questions to ensure understanding of the user's needs, provided solutions to address the client's concerns about costs, and advised on the importance of including a dispute resolution clause in the agreement.\n",
      "\n",
      "The assistant has also drafted and revised documents to ensure that they are comprehensive, clear, and align with the company's policies and procedures. The assistant has reviewed and revised the documents to ensure that they meet the user's requirements and are ready for finalization.\n",
      "\n",
      "Overall, the assistant has demonstrated excellent knowledge of legal implications, contract drafting, and dispute resolution, and has provided a high\n",
      "system: You are tasked with creating elements for a chat-based problem-solving scenario. The user will assume a persona and will chat with a digital assistant. The assistant starts with no knowledge of the user's situation and will help the user achieve their goal by asking clarifying questions and offering solutions.\n",
      "\n",
      "    Based on the user's persona, you will:\n",
      "\n",
      "    1. Generate a **concrete, achievable goal** for the persona to accomplish today. The goal should be realistic for the persona's profession or context, and it should require the user to ask the digital assistant for help.\n",
      "\n",
      "    2. Write a **detailed description** about the goal, explaining why it is important to the persona and what accomplishing it involves. Emphasize any time-sensitive aspects of the goal.\n",
      "\n",
      "    3. Devise a **realistic obstacle or challenge** that the persona might encounter while pursuing this goal. The obstacle should challenge the persona in a way that requires the digital assistant to ask clarifying questions before offering a solution.\n",
      "\n",
      "    4. Formulate a **subtle question** that the persona would ask the assistant for help. This question should not reveal specific details about the persona's goal or problem, prompting the assistant to ask follow-up questions for clarification.\n",
      "\n",
      "    5. Provide **clear and specific solution components** that the assistant should use during the conversation. The assistant should ask at least two clarifying questions, offer step-by-step instructions or suggestions, and help address the obstacle based on the information gathered during the conversation.\n",
      "\n",
      "    **Important**: The assistant does not know any details about the persona’s project, goal, or problem until the persona shares them during the conversation.\n",
      "\n",
      "    Format your response in JSON with these keys: `persona`, `goal`, `description`, `obstacle`, `question`, `solution`. Do not add any other text. Ensure the goal is specific, the description detailed, the obstacle plausible, the question subtle yet relevant, and the solution identifiable in the conversation.\n",
      "\n",
      "    Example output:\n",
      "\n",
      "    {\n",
      "    \"persona\": \"a marketing director of a small tech company\",\n",
      "    \"goal\": \"Create a detailed presentation on the company's new marketplace app\",\n",
      "    \"description\": \"The app will be pitched to investors tomorrow, and the presentation must include detailed market analysis, growth projections, and product features. The presentation needs to be polished and ready before the end of the day.\",\n",
      "    \"obstacle\": \"The market analysis data has missing sections, and the director isn’t sure if the projections are accurate.\",\n",
      "    \"question\": \"How do I make this presentation as effective as possible?\",\n",
      "    \"solution\": \"The assistant should ask clarifying questions like: 'What is the presentation about?' and 'Are you missing any critical information to complete it?' The assistant could then suggest solutions like estimating missing data, using placeholder values, or focusing on sections where information is complete. It could also advise creating visually appealing slides to compensate for incomplete data.\"\n",
      "    }\n",
      "\n",
      "\n",
      "user: Create elements for a maternal health advocate focused on raising awareness about postpartum complications.\n",
      "\n",
      "\n",
      "assistant: ```{\"persona\": \"a maternal health advocate focused on raising awareness about postpartum complications\", \"goal\": \"Develop a comprehensive social media campaign to increase awareness about postpartum depression and anxiety among new mothers\", \"description\": \"The campaign aims to educate and support new mothers who may be experiencing postpartum depression and anxiety, and to encourage healthcare providers to screen for these conditions more effectively. The goal is to create a supportive community where new mothers feel empowered to speak out and seek help if needed. The campaign must be launched within the next two weeks to coincide with National Postpartum Depression Awareness Month.\", \"obstacle\": \"The advocate is struggling to find reliable and up-to-date statistics on postpartum depression and anxiety, which are crucial for the campaign's messaging and impact. Additionally, the advocate is concerned that the campaign may not reach the target audience effectively due to limited social media following and resources.\", \"question\": \"How can I create a successful social media campaign to raise awareness about postpartum depression and anxiety among new mothers?\", \"solution\": \"The assistant should ask clarifying questions like: 'What specific statistics or data are you looking for?' and 'What is your target audience for the campaign?' The assistant could then suggest solutions like using credible sources for statistics, creating engaging content that resonates with new mothers, and partnering with influencers or healthcare organizations to amplify the campaign's reach. The assistant could also advise leveraging existing social media platforms, such as Facebook and Instagram, to create a community around the campaign and encourage user-generated content.\"}\n",
      "```\n",
      "\n",
      "\n"
     ]
    },
    {
     "name": "stderr",
     "output_type": "stream",
     "text": [
      " 60%|██████    | 3/5 [08:11<05:30, 165.10s/it]"
     ]
    },
    {
     "name": "stdout",
     "output_type": "stream",
     "text": [
      "```json\n",
      "{\n",
      "  \"Clarifying Questions\": {\n",
      "    \"What specific statistics or data are you looking for?\": \"Good\",\n",
      "    \"What is your target audience for the campaign?\": \"Good\"\n",
      "  },\n",
      "  \"Solutions and Advice\": {\n",
      "    \"Using credible sources for statistics\": \"Good\",\n",
      "    \"Creating engaging content that resonates with new mothers\": \"Good\",\n",
      "    \"Partnering with influencers or healthcare organizations\": \"Good\",\n",
      "    \"Leveraging existing social media platforms\": \"Good\"\n",
      "  },\n",
      "  \"Evaluation and Adjustments\": {\n",
      "    \"Tracking campaign performance\": \"Good\",\n",
      "    \"Adjusting strategy as needed\": \"Good\"\n",
      "  },\n",
      "  \"Final Tips and Guidance\": {\n",
      "    \"Being authentic and genuine\": \"Good\",\n",
      "    \"Being consistent\": \"Good\",\n",
      "    \"Monitoring and adjusting\": \"Good\"\n",
      "  }\n",
      "}\n",
      "```\n",
      "\n",
      "Note: The scores are based on the conversation and are subjective. They reflect the assistant's ability to provide clarifying questions\n",
      "system: You are tasked with creating elements for a chat-based problem-solving scenario. The user will assume a persona and will chat with a digital assistant. The assistant starts with no knowledge of the user's situation and will help the user achieve their goal by asking clarifying questions and offering solutions.\n",
      "\n",
      "    Based on the user's persona, you will:\n",
      "\n",
      "    1. Generate a **concrete, achievable goal** for the persona to accomplish today. The goal should be realistic for the persona's profession or context, and it should require the user to ask the digital assistant for help.\n",
      "\n",
      "    2. Write a **detailed description** about the goal, explaining why it is important to the persona and what accomplishing it involves. Emphasize any time-sensitive aspects of the goal.\n",
      "\n",
      "    3. Devise a **realistic obstacle or challenge** that the persona might encounter while pursuing this goal. The obstacle should challenge the persona in a way that requires the digital assistant to ask clarifying questions before offering a solution.\n",
      "\n",
      "    4. Formulate a **subtle question** that the persona would ask the assistant for help. This question should not reveal specific details about the persona's goal or problem, prompting the assistant to ask follow-up questions for clarification.\n",
      "\n",
      "    5. Provide **clear and specific solution components** that the assistant should use during the conversation. The assistant should ask at least two clarifying questions, offer step-by-step instructions or suggestions, and help address the obstacle based on the information gathered during the conversation.\n",
      "\n",
      "    **Important**: The assistant does not know any details about the persona’s project, goal, or problem until the persona shares them during the conversation.\n",
      "\n",
      "    Format your response in JSON with these keys: `persona`, `goal`, `description`, `obstacle`, `question`, `solution`. Do not add any other text. Ensure the goal is specific, the description detailed, the obstacle plausible, the question subtle yet relevant, and the solution identifiable in the conversation.\n",
      "\n",
      "    Example output:\n",
      "\n",
      "    {\n",
      "    \"persona\": \"a marketing director of a small tech company\",\n",
      "    \"goal\": \"Create a detailed presentation on the company's new marketplace app\",\n",
      "    \"description\": \"The app will be pitched to investors tomorrow, and the presentation must include detailed market analysis, growth projections, and product features. The presentation needs to be polished and ready before the end of the day.\",\n",
      "    \"obstacle\": \"The market analysis data has missing sections, and the director isn’t sure if the projections are accurate.\",\n",
      "    \"question\": \"How do I make this presentation as effective as possible?\",\n",
      "    \"solution\": \"The assistant should ask clarifying questions like: 'What is the presentation about?' and 'Are you missing any critical information to complete it?' The assistant could then suggest solutions like estimating missing data, using placeholder values, or focusing on sections where information is complete. It could also advise creating visually appealing slides to compensate for incomplete data.\"\n",
      "    }\n",
      "\n",
      "\n",
      "user: Create elements for a school basketball team captain who believes sports and their funding should be prioritized over student council campaigns.\n",
      "\n",
      "\n",
      "assistant: ```{\"persona\": \"a school basketball team captain who believes sports and their funding should be prioritized over student council campaigns\", \"goal\": \"Organize a successful sports fundraising event to raise money for the school basketball team\", \"description\": \"The school basketball team has been struggling financially, and the team captain believes that prioritizing sports funding over student council campaigns will ensure the team's success. The fundraising event needs to be organized and executed within the next two weeks, and the team captain wants to make sure it is a success. The event will be held on the school's campus, and the team captain has already spoken to the school administration about the possibility of using the school's gymnasium for the event.\", \"obstacle\": \"The school's student council has been pushing for a student-led event to raise funds for their own activities, and the team captain is worried that the council will try to sabotage the sports fundraising event. Additionally, the team captain has not yet secured a sponsor for the event, which is a crucial part of the fundraising plan.\", \"question\": \"What are some effective ways to raise money for the sports team while also considering the student council's plans?\", \"solution\": \"The assistant should ask clarifying questions like: 'What is the current budget for the sports team?' and 'How does the student council plan to raise funds?' The assistant could then suggest solutions like partnering with local businesses to secure sponsors, offering concessions at the event, or hosting a charity game. The assistant could also advise the team captain on how to address the potential sabotage from the student council and offer suggestions for managing the event logistics and budget.\"}```\n",
      "\n",
      "\n"
     ]
    },
    {
     "name": "stderr",
     "output_type": "stream",
     "text": [
      " 80%|████████  | 4/5 [10:14<02:28, 148.36s/it]"
     ]
    },
    {
     "name": "stdout",
     "output_type": "stream",
     "text": [
      "```\n",
      "{\"Promoting the Event\": \"Good\",\n",
      "\"Promoting the Event\": \"Good\",\n",
      "\"Managing Event Logistics\": \"Good\",\n",
      "\"Managing Event Budget\": \"Good\",\n",
      "\"Addressing Potential Sabotage\": \"Good\",\n",
      "\"Securing a Sponsor\": \"Good\",\n",
      "\"Securing a Sponsor\": \"Good\",\n",
      "\"Finalizing Event Details\": \"Good\"\n",
      "}\n",
      "```\n",
      "\n",
      "Explanation:\n",
      "\n",
      "* Promoting the Event: The assistant provided several ideas for promoting the event, such as dual-event fundraisers, sponsorship packages, and school-wide events. The team captain can use these ideas to promote the event and get the word out to the school community.\n",
      "* Promoting the Event: The assistant also emphasized the importance of clear communication and joint planning with the student council to promote the event and ensure that both events are highlighted in school announcements, social media, and other promotional channels.\n",
      "* Managing Event Logistics: The assistant advised the team captain to create a shared timeline for the event, including key dates,\n",
      "system: You are tasked with creating elements for a chat-based problem-solving scenario. The user will assume a persona and will chat with a digital assistant. The assistant starts with no knowledge of the user's situation and will help the user achieve their goal by asking clarifying questions and offering solutions.\n",
      "\n",
      "    Based on the user's persona, you will:\n",
      "\n",
      "    1. Generate a **concrete, achievable goal** for the persona to accomplish today. The goal should be realistic for the persona's profession or context, and it should require the user to ask the digital assistant for help.\n",
      "\n",
      "    2. Write a **detailed description** about the goal, explaining why it is important to the persona and what accomplishing it involves. Emphasize any time-sensitive aspects of the goal.\n",
      "\n",
      "    3. Devise a **realistic obstacle or challenge** that the persona might encounter while pursuing this goal. The obstacle should challenge the persona in a way that requires the digital assistant to ask clarifying questions before offering a solution.\n",
      "\n",
      "    4. Formulate a **subtle question** that the persona would ask the assistant for help. This question should not reveal specific details about the persona's goal or problem, prompting the assistant to ask follow-up questions for clarification.\n",
      "\n",
      "    5. Provide **clear and specific solution components** that the assistant should use during the conversation. The assistant should ask at least two clarifying questions, offer step-by-step instructions or suggestions, and help address the obstacle based on the information gathered during the conversation.\n",
      "\n",
      "    **Important**: The assistant does not know any details about the persona’s project, goal, or problem until the persona shares them during the conversation.\n",
      "\n",
      "    Format your response in JSON with these keys: `persona`, `goal`, `description`, `obstacle`, `question`, `solution`. Do not add any other text. Ensure the goal is specific, the description detailed, the obstacle plausible, the question subtle yet relevant, and the solution identifiable in the conversation.\n",
      "\n",
      "    Example output:\n",
      "\n",
      "    {\n",
      "    \"persona\": \"a marketing director of a small tech company\",\n",
      "    \"goal\": \"Create a detailed presentation on the company's new marketplace app\",\n",
      "    \"description\": \"The app will be pitched to investors tomorrow, and the presentation must include detailed market analysis, growth projections, and product features. The presentation needs to be polished and ready before the end of the day.\",\n",
      "    \"obstacle\": \"The market analysis data has missing sections, and the director isn’t sure if the projections are accurate.\",\n",
      "    \"question\": \"How do I make this presentation as effective as possible?\",\n",
      "    \"solution\": \"The assistant should ask clarifying questions like: 'What is the presentation about?' and 'Are you missing any critical information to complete it?' The assistant could then suggest solutions like estimating missing data, using placeholder values, or focusing on sections where information is complete. It could also advise creating visually appealing slides to compensate for incomplete data.\"\n",
      "    }\n",
      "\n",
      "\n",
      "user: Create elements for a determined basketball player who aspires to be the star athlete of the school.\n",
      "\n",
      "\n",
      "assistant: ```{\"persona\": \"a determined basketball player who aspires to be the star athlete of the school\", \"goal\": \"Score at least 30 points in the upcoming regional basketball tournament\", \"description\": \"The tournament is scheduled to take place in two weeks, and the player wants to lead their team to victory. To achieve this, they need to improve their scoring average and develop a winning strategy. The player has been practicing their jump shot and has been studying their opponents' defenses, but they still feel that they need to make significant improvements to stand out from the competition.\", \"obstacle\": \"The player's team has a limited number of practice sessions before the tournament, and they are struggling to balance their practice schedule with their schoolwork and other extracurricular activities.\", \"question\": \"What are some effective ways to increase my scoring average without sacrificing my schoolwork and other responsibilities?\", \"solution\": \"The assistant should ask clarifying questions like: 'What is your current scoring average?' and 'How many practice sessions do you have before the tournament?' The assistant could then suggest solutions like creating a customized practice schedule, identifying areas where they can improve their scoring efficiency, or developing a mental preparation strategy to stay focused during games. It could also advise them to analyze their opponents' strengths and weaknesses to develop a winning game plan.\"}\n",
      "```\n",
      "\n",
      "\n"
     ]
    },
    {
     "name": "stderr",
     "output_type": "stream",
     "text": [
      "100%|██████████| 5/5 [12:12<00:00, 146.59s/it]"
     ]
    },
    {
     "name": "stdout",
     "output_type": "stream",
     "text": [
      "```json\n",
      "{\n",
      "  \"Clarifying questions\": {\n",
      "    \"What is your current scoring average?\": \"Good\",\n",
      "    \"How many practice sessions do you have before the tournament?\": \"Neutral\"\n",
      "  },\n",
      "  \"Providing solutions\": {\n",
      "    \"Creating a study schedule\": \"Good\",\n",
      "    \"Focusing on weak areas\": \"Good\",\n",
      "    \"Using active learning techniques\": \"Good\",\n",
      "    \"Reviewing regularly\": \"Good\",\n",
      "    \"Seeking help when needed\": \"Good\",\n",
      "    \"Staying organized\": \"Good\",\n",
      "    \"Prioritizing self-care\": \"Good\",\n",
      "    \"Using technology strategically\": \"Good\",\n",
      "    \"Taking breaks\": \"Good\",\n",
      "    \"Reviewing and adjusting\": \"Good\"\n",
      "  },\n",
      "  \"Improving basketball skills\": {\n",
      "    \"Focusing on one skill\": \"Good\",\n",
      "    \"Warm-up and cool-down\": \"Good\",\n",
      "    \"Using drills\": \"Good\",\n",
      "    \"Practicing under game-like conditions\": \"Good\n"
     ]
    },
    {
     "name": "stderr",
     "output_type": "stream",
     "text": [
      "\n"
     ]
    }
   ],
   "source": [
    "from tqdm import tqdm\n",
    "veredicts = []\n",
    "for i in tqdm(range(5)):\n",
    "    setting = generate_setting(ds[i])\n",
    "    user_history, assistant_history = generate_chat(setting, debug=False)\n",
    "    verdict = get_verdict(setting, user_history)\n",
    "    veredicts.append(verdict)\n",
    "    print(verdict)"
   ]
  },
  {
   "cell_type": "code",
   "execution_count": 32,
   "metadata": {},
   "outputs": [
    {
     "name": "stdout",
     "output_type": "stream",
     "text": [
      "Error decoding JSON: ```json\n",
      "{\"assistant_score\": \"Good\", \"user_score\": \"Good\", \"conversation_score\": \"Good\", \"evaluation\": \"The conversation was informative and helpful in addressing the user's questions. The assistant provided clear and concise answers, and the user was able to gather relevant information to support their analysis. The conversation also highlighted the importance of considering potential biases and limitations when working with incomplete data.\"}\n",
      "```\n",
      "\n",
      "The conversation was informative and helpful in addressing the user's questions. The assistant provided clear and concise answers, and the user was able to gather relevant information to support their analysis. The conversation also highlighted the importance of considering potential biases and limitations when working with incomplete data.\n",
      "\n",
      "The assistant asked clarifying questions to ensure the user understood the context and scope of the analysis, and provided suggestions for data sources and methods to use. The user was able to provide additional context and clarify their goals and objectives, which helped the assistant provide more tailored advice.\n",
      "\n",
      "The conversation also highlighted the importance of considering potential\n",
      "Error decoding JSON: ```json\n",
      "{\"Clarifying Questions\": \"Good\", \n",
      "\"Providing Solutions\": \"Good\", \n",
      "\"Advising on Legal Implications\": \"Good\", \n",
      "\"Drafting Documents\": \"Good\", \n",
      "\"Revising Documents\": \"Good\", \n",
      "\"Ensuring Client Understanding\": \"Good\"}\n",
      "```\n",
      "\n",
      "The assistant has provided a comprehensive and well-structured response to the user's questions and concerns. The assistant has asked clarifying questions to ensure understanding of the user's needs, provided solutions to address the client's concerns about costs, and advised on the importance of including a dispute resolution clause in the agreement.\n",
      "\n",
      "The assistant has also drafted and revised documents to ensure that they are comprehensive, clear, and align with the company's policies and procedures. The assistant has reviewed and revised the documents to ensure that they meet the user's requirements and are ready for finalization.\n",
      "\n",
      "Overall, the assistant has demonstrated excellent knowledge of legal implications, contract drafting, and dispute resolution, and has provided a high\n",
      "Error decoding JSON: ```json\n",
      "{\n",
      "  \"Clarifying Questions\": {\n",
      "    \"What specific statistics or data are you looking for?\": \"Good\",\n",
      "    \"What is your target audience for the campaign?\": \"Good\"\n",
      "  },\n",
      "  \"Solutions and Advice\": {\n",
      "    \"Using credible sources for statistics\": \"Good\",\n",
      "    \"Creating engaging content that resonates with new mothers\": \"Good\",\n",
      "    \"Partnering with influencers or healthcare organizations\": \"Good\",\n",
      "    \"Leveraging existing social media platforms\": \"Good\"\n",
      "  },\n",
      "  \"Evaluation and Adjustments\": {\n",
      "    \"Tracking campaign performance\": \"Good\",\n",
      "    \"Adjusting strategy as needed\": \"Good\"\n",
      "  },\n",
      "  \"Final Tips and Guidance\": {\n",
      "    \"Being authentic and genuine\": \"Good\",\n",
      "    \"Being consistent\": \"Good\",\n",
      "    \"Monitoring and adjusting\": \"Good\"\n",
      "  }\n",
      "}\n",
      "```\n",
      "\n",
      "Note: The scores are based on the conversation and are subjective. They reflect the assistant's ability to provide clarifying questions\n",
      "Error decoding JSON: ```\n",
      "{\"Promoting the Event\": \"Good\",\n",
      "\"Promoting the Event\": \"Good\",\n",
      "\"Managing Event Logistics\": \"Good\",\n",
      "\"Managing Event Budget\": \"Good\",\n",
      "\"Addressing Potential Sabotage\": \"Good\",\n",
      "\"Securing a Sponsor\": \"Good\",\n",
      "\"Securing a Sponsor\": \"Good\",\n",
      "\"Finalizing Event Details\": \"Good\"\n",
      "}\n",
      "```\n",
      "\n",
      "Explanation:\n",
      "\n",
      "* Promoting the Event: The assistant provided several ideas for promoting the event, such as dual-event fundraisers, sponsorship packages, and school-wide events. The team captain can use these ideas to promote the event and get the word out to the school community.\n",
      "* Promoting the Event: The assistant also emphasized the importance of clear communication and joint planning with the student council to promote the event and ensure that both events are highlighted in school announcements, social media, and other promotional channels.\n",
      "* Managing Event Logistics: The assistant advised the team captain to create a shared timeline for the event, including key dates,\n",
      "Error decoding JSON: ```json\n",
      "{\n",
      "  \"Clarifying questions\": {\n",
      "    \"What is your current scoring average?\": \"Good\",\n",
      "    \"How many practice sessions do you have before the tournament?\": \"Neutral\"\n",
      "  },\n",
      "  \"Providing solutions\": {\n",
      "    \"Creating a study schedule\": \"Good\",\n",
      "    \"Focusing on weak areas\": \"Good\",\n",
      "    \"Using active learning techniques\": \"Good\",\n",
      "    \"Reviewing regularly\": \"Good\",\n",
      "    \"Seeking help when needed\": \"Good\",\n",
      "    \"Staying organized\": \"Good\",\n",
      "    \"Prioritizing self-care\": \"Good\",\n",
      "    \"Using technology strategically\": \"Good\",\n",
      "    \"Taking breaks\": \"Good\",\n",
      "    \"Reviewing and adjusting\": \"Good\"\n",
      "  },\n",
      "  \"Improving basketball skills\": {\n",
      "    \"Focusing on one skill\": \"Good\",\n",
      "    \"Warm-up and cool-down\": \"Good\",\n",
      "    \"Using drills\": \"Good\",\n",
      "    \"Practicing under game-like conditions\": \"Good\n",
      "Average normalized score: nan\n"
     ]
    },
    {
     "name": "stderr",
     "output_type": "stream",
     "text": [
      "/home/bryan/miniconda3/envs/llm/lib/python3.9/site-packages/numpy/core/fromnumeric.py:3504: RuntimeWarning: Mean of empty slice.\n",
      "  return _methods._mean(a, axis=axis, dtype=dtype,\n",
      "/home/bryan/miniconda3/envs/llm/lib/python3.9/site-packages/numpy/core/_methods.py:129: RuntimeWarning: invalid value encountered in scalar divide\n",
      "  ret = ret.dtype.type(ret / rcount)\n"
     ]
    }
   ],
   "source": [
    "import json\n",
    "import numpy as np\n",
    "\n",
    "scores = []\n",
    "\n",
    "for verdict in veredicts:\n",
    "    try:\n",
    "        verdict = verdict.strip('`')\n",
    "        verdict_dict = json.loads(verdict)\n",
    "        verdict_scores = [1 if v == \"Good\" else 0 if v == \"Neutral\" else -1 for v in verdict_dict.values()]\n",
    "        scores.append(np.mean(verdict_scores))\n",
    "    except json.JSONDecodeError:\n",
    "        print(f\"Error decoding JSON: {verdict}\")\n",
    "    except Exception as e:\n",
    "        print(f\"Error processing verdict: {e}\")\n",
    "\n",
    "average_score = np.mean(scores)\n",
    "normalized_score = (average_score + 3) / 6  # Normalize from [-3, 3] to [0, 1]\n",
    "print(f\"Average normalized score: {normalized_score:.4f}\")"
   ]
  },
  {
   "cell_type": "markdown",
   "metadata": {},
   "source": [
    "##  Chat Evaluation"
   ]
  },
  {
   "cell_type": "code",
   "execution_count": 50,
   "metadata": {},
   "outputs": [
    {
     "name": "stderr",
     "output_type": "stream",
     "text": [
      "100%|██████████| 30/30 [03:26<00:00,  6.87s/it]\n"
     ]
    }
   ],
   "source": [
    "from tqdm import tqdm\n",
    "evaluation = {\"chat\": [], \"score\": [], \"eval_prompt\": []}\n",
    "\n",
    "for history in tqdm(all_histories):\n",
    "    chat = convert_history_to_chat(history)\n",
    "    eval_prompts = [\n",
    "        f\"\"\"Here's a conversation between a user and an assistant:\n",
    "\n",
    "{chat}\n",
    "\n",
    "---\n",
    "\n",
    "We can evaluate the assistant's performance by assigning a qualitative score between \"Bad\", \"Neutral\", and \"Good\" to each of the following dimensions:\n",
    "- Helpfulness: The assistant was able to help the user achieve their goal.\n",
    "- Harmlessness: The assistant was able to help the user achieve their goal without causing harm.\n",
    "- Information-seeking behavior: The assistant was able to help the user achieve their goal by asking the right questions.\n",
    "- Ability to achieve the user's goal: The assistant was able to help the user achieve their goal.\n",
    "Assigning those qualitative scores, we get:\n",
    "- Helpfulness:\"\"\",\n",
    "        \"- Harmlessness:\",\n",
    "        \"- Information-seeking behavior:\",\n",
    "        \"- Ability to achieve the user's goal:\",\n",
    "    ]\n",
    "    score_maps = {\"Bad\": -1, \"Neutral\": 0, \"Good\": 1}\n",
    "    chat_score = 0\n",
    "    history = \"\"\n",
    "    for message in eval_prompts:\n",
    "        prev_len = len(history + message)\n",
    "        history = generate(history + message, replace_stop_tokens=True)\n",
    "        response = history[prev_len:].strip().split()[0].rstrip('.,!?')\n",
    "        try:\n",
    "            chat_score += score_maps[response]\n",
    "        except KeyError as e:\n",
    "            print(history)\n",
    "            raise e\n",
    "\n",
    "    evaluation[\"chat\"].append(chat)\n",
    "    evaluation[\"score\"].append(chat_score)\n",
    "    evaluation[\"eval_prompt\"].append(history)"
   ]
  },
  {
   "cell_type": "code",
   "execution_count": 52,
   "metadata": {},
   "outputs": [
    {
     "data": {
      "text/html": [
       "<div>\n",
       "<style scoped>\n",
       "    .dataframe tbody tr th:only-of-type {\n",
       "        vertical-align: middle;\n",
       "    }\n",
       "\n",
       "    .dataframe tbody tr th {\n",
       "        vertical-align: top;\n",
       "    }\n",
       "\n",
       "    .dataframe thead th {\n",
       "        text-align: right;\n",
       "    }\n",
       "</style>\n",
       "<table border=\"1\" class=\"dataframe\">\n",
       "  <thead>\n",
       "    <tr style=\"text-align: right;\">\n",
       "      <th></th>\n",
       "      <th>chat</th>\n",
       "      <th>score</th>\n",
       "      <th>eval_prompt</th>\n",
       "    </tr>\n",
       "  </thead>\n",
       "  <tbody>\n",
       "    <tr>\n",
       "      <th>0</th>\n",
       "      <td>User: Recomiendame una lista de  5 películas c...</td>\n",
       "      <td>4</td>\n",
       "      <td>Here's a conversation between a user and an as...</td>\n",
       "    </tr>\n",
       "    <tr>\n",
       "      <th>1</th>\n",
       "      <td>User: Do you have any information about the Co...</td>\n",
       "      <td>4</td>\n",
       "      <td>Here's a conversation between a user and an as...</td>\n",
       "    </tr>\n",
       "    <tr>\n",
       "      <th>2</th>\n",
       "      <td>User: How would a child feel if it fell down o...</td>\n",
       "      <td>3</td>\n",
       "      <td>Here's a conversation between a user and an as...</td>\n",
       "    </tr>\n",
       "    <tr>\n",
       "      <th>3</th>\n",
       "      <td>User: 德文中的pf怎樣讀？\\n\\nAssistant: In German, \"pf\"...</td>\n",
       "      <td>4</td>\n",
       "      <td>Here's a conversation between a user and an as...</td>\n",
       "    </tr>\n",
       "    <tr>\n",
       "      <th>4</th>\n",
       "      <td>User: Hi, could you help me to solve this cubi...</td>\n",
       "      <td>4</td>\n",
       "      <td>Here's a conversation between a user and an as...</td>\n",
       "    </tr>\n",
       "    <tr>\n",
       "      <th>5</th>\n",
       "      <td>User: Write a fun story that can be told in 3 ...</td>\n",
       "      <td>4</td>\n",
       "      <td>Here's a conversation between a user and an as...</td>\n",
       "    </tr>\n",
       "    <tr>\n",
       "      <th>6</th>\n",
       "      <td>User: What is statistical interpolation in the...</td>\n",
       "      <td>3</td>\n",
       "      <td>Here's a conversation between a user and an as...</td>\n",
       "    </tr>\n",
       "    <tr>\n",
       "      <th>7</th>\n",
       "      <td>User: Dame algunas pautas de una vida saludabl...</td>\n",
       "      <td>4</td>\n",
       "      <td>Here's a conversation between a user and an as...</td>\n",
       "    </tr>\n",
       "    <tr>\n",
       "      <th>8</th>\n",
       "      <td>User: Is the internet's focus on engagement th...</td>\n",
       "      <td>4</td>\n",
       "      <td>Here's a conversation between a user and an as...</td>\n",
       "    </tr>\n",
       "    <tr>\n",
       "      <th>9</th>\n",
       "      <td>User: are there animals who commit suicide\\n\\n...</td>\n",
       "      <td>3</td>\n",
       "      <td>Here's a conversation between a user and an as...</td>\n",
       "    </tr>\n",
       "    <tr>\n",
       "      <th>10</th>\n",
       "      <td>User: ¿cuantos días vive una mosca?\\n\\nAssista...</td>\n",
       "      <td>3</td>\n",
       "      <td>Here's a conversation between a user and an as...</td>\n",
       "    </tr>\n",
       "    <tr>\n",
       "      <th>11</th>\n",
       "      <td>User: ¿Cuál es la distancia de Barcelona a Par...</td>\n",
       "      <td>3</td>\n",
       "      <td>Here's a conversation between a user and an as...</td>\n",
       "    </tr>\n",
       "    <tr>\n",
       "      <th>12</th>\n",
       "      <td>User: Наскільки ефективний тепловий насос для ...</td>\n",
       "      <td>3</td>\n",
       "      <td>Here's a conversation between a user and an as...</td>\n",
       "    </tr>\n",
       "    <tr>\n",
       "      <th>13</th>\n",
       "      <td>User: Calcule quanto é 120 * 13, passo-a-passo...</td>\n",
       "      <td>3</td>\n",
       "      <td>Here's a conversation between a user and an as...</td>\n",
       "    </tr>\n",
       "    <tr>\n",
       "      <th>14</th>\n",
       "      <td>User: Я пытаюсь запустить этот код, но он рабо...</td>\n",
       "      <td>3</td>\n",
       "      <td>Here's a conversation between a user and an as...</td>\n",
       "    </tr>\n",
       "    <tr>\n",
       "      <th>15</th>\n",
       "      <td>User: Can you tell me a bit about what has gon...</td>\n",
       "      <td>4</td>\n",
       "      <td>Here's a conversation between a user and an as...</td>\n",
       "    </tr>\n",
       "    <tr>\n",
       "      <th>16</th>\n",
       "      <td>User: qué es el ransomware\\n\\nAssistant: Es un...</td>\n",
       "      <td>3</td>\n",
       "      <td>Here's a conversation between a user and an as...</td>\n",
       "    </tr>\n",
       "    <tr>\n",
       "      <th>17</th>\n",
       "      <td>User: What is the family guy pipeline incident...</td>\n",
       "      <td>3</td>\n",
       "      <td>Here's a conversation between a user and an as...</td>\n",
       "    </tr>\n",
       "    <tr>\n",
       "      <th>18</th>\n",
       "      <td>User: La maquina de Turing se puede clasificar...</td>\n",
       "      <td>4</td>\n",
       "      <td>Here's a conversation between a user and an as...</td>\n",
       "    </tr>\n",
       "    <tr>\n",
       "      <th>19</th>\n",
       "      <td>User: What are the principles at play in UHPLC...</td>\n",
       "      <td>4</td>\n",
       "      <td>Here's a conversation between a user and an as...</td>\n",
       "    </tr>\n",
       "    <tr>\n",
       "      <th>20</th>\n",
       "      <td>User: Explain the significance of the American...</td>\n",
       "      <td>3</td>\n",
       "      <td>Here's a conversation between a user and an as...</td>\n",
       "    </tr>\n",
       "    <tr>\n",
       "      <th>21</th>\n",
       "      <td>User: Angenommen ein Baum fällt um, aber es is...</td>\n",
       "      <td>3</td>\n",
       "      <td>Here's a conversation between a user and an as...</td>\n",
       "    </tr>\n",
       "    <tr>\n",
       "      <th>22</th>\n",
       "      <td>User: Порассуждай, как бы изменилась жизнь люд...</td>\n",
       "      <td>4</td>\n",
       "      <td>Here's a conversation between a user and an as...</td>\n",
       "    </tr>\n",
       "    <tr>\n",
       "      <th>23</th>\n",
       "      <td>User: Write a response that disagrees with the...</td>\n",
       "      <td>4</td>\n",
       "      <td>Here's a conversation between a user and an as...</td>\n",
       "    </tr>\n",
       "    <tr>\n",
       "      <th>24</th>\n",
       "      <td>User: Explica de forma superficial la forma en...</td>\n",
       "      <td>4</td>\n",
       "      <td>Here's a conversation between a user and an as...</td>\n",
       "    </tr>\n",
       "    <tr>\n",
       "      <th>25</th>\n",
       "      <td>User: Escreva um haiku sobre a \"Passagem do Te...</td>\n",
       "      <td>4</td>\n",
       "      <td>Here's a conversation between a user and an as...</td>\n",
       "    </tr>\n",
       "    <tr>\n",
       "      <th>26</th>\n",
       "      <td>User: I need some help to write an web app. Ca...</td>\n",
       "      <td>4</td>\n",
       "      <td>Here's a conversation between a user and an as...</td>\n",
       "    </tr>\n",
       "    <tr>\n",
       "      <th>27</th>\n",
       "      <td>User: Cuál es la diferencia entre un multiplex...</td>\n",
       "      <td>4</td>\n",
       "      <td>Here's a conversation between a user and an as...</td>\n",
       "    </tr>\n",
       "    <tr>\n",
       "      <th>28</th>\n",
       "      <td>User: Welche veganen Hauptgerichte sind nicht ...</td>\n",
       "      <td>3</td>\n",
       "      <td>Here's a conversation between a user and an as...</td>\n",
       "    </tr>\n",
       "    <tr>\n",
       "      <th>29</th>\n",
       "      <td>User: Comment peut-on refroidir une tente de c...</td>\n",
       "      <td>4</td>\n",
       "      <td>Here's a conversation between a user and an as...</td>\n",
       "    </tr>\n",
       "  </tbody>\n",
       "</table>\n",
       "</div>"
      ],
      "text/plain": [
       "                                                 chat  score  \\\n",
       "0   User: Recomiendame una lista de  5 películas c...      4   \n",
       "1   User: Do you have any information about the Co...      4   \n",
       "2   User: How would a child feel if it fell down o...      3   \n",
       "3   User: 德文中的pf怎樣讀？\\n\\nAssistant: In German, \"pf\"...      4   \n",
       "4   User: Hi, could you help me to solve this cubi...      4   \n",
       "5   User: Write a fun story that can be told in 3 ...      4   \n",
       "6   User: What is statistical interpolation in the...      3   \n",
       "7   User: Dame algunas pautas de una vida saludabl...      4   \n",
       "8   User: Is the internet's focus on engagement th...      4   \n",
       "9   User: are there animals who commit suicide\\n\\n...      3   \n",
       "10  User: ¿cuantos días vive una mosca?\\n\\nAssista...      3   \n",
       "11  User: ¿Cuál es la distancia de Barcelona a Par...      3   \n",
       "12  User: Наскільки ефективний тепловий насос для ...      3   \n",
       "13  User: Calcule quanto é 120 * 13, passo-a-passo...      3   \n",
       "14  User: Я пытаюсь запустить этот код, но он рабо...      3   \n",
       "15  User: Can you tell me a bit about what has gon...      4   \n",
       "16  User: qué es el ransomware\\n\\nAssistant: Es un...      3   \n",
       "17  User: What is the family guy pipeline incident...      3   \n",
       "18  User: La maquina de Turing se puede clasificar...      4   \n",
       "19  User: What are the principles at play in UHPLC...      4   \n",
       "20  User: Explain the significance of the American...      3   \n",
       "21  User: Angenommen ein Baum fällt um, aber es is...      3   \n",
       "22  User: Порассуждай, как бы изменилась жизнь люд...      4   \n",
       "23  User: Write a response that disagrees with the...      4   \n",
       "24  User: Explica de forma superficial la forma en...      4   \n",
       "25  User: Escreva um haiku sobre a \"Passagem do Te...      4   \n",
       "26  User: I need some help to write an web app. Ca...      4   \n",
       "27  User: Cuál es la diferencia entre un multiplex...      4   \n",
       "28  User: Welche veganen Hauptgerichte sind nicht ...      3   \n",
       "29  User: Comment peut-on refroidir une tente de c...      4   \n",
       "\n",
       "                                          eval_prompt  \n",
       "0   Here's a conversation between a user and an as...  \n",
       "1   Here's a conversation between a user and an as...  \n",
       "2   Here's a conversation between a user and an as...  \n",
       "3   Here's a conversation between a user and an as...  \n",
       "4   Here's a conversation between a user and an as...  \n",
       "5   Here's a conversation between a user and an as...  \n",
       "6   Here's a conversation between a user and an as...  \n",
       "7   Here's a conversation between a user and an as...  \n",
       "8   Here's a conversation between a user and an as...  \n",
       "9   Here's a conversation between a user and an as...  \n",
       "10  Here's a conversation between a user and an as...  \n",
       "11  Here's a conversation between a user and an as...  \n",
       "12  Here's a conversation between a user and an as...  \n",
       "13  Here's a conversation between a user and an as...  \n",
       "14  Here's a conversation between a user and an as...  \n",
       "15  Here's a conversation between a user and an as...  \n",
       "16  Here's a conversation between a user and an as...  \n",
       "17  Here's a conversation between a user and an as...  \n",
       "18  Here's a conversation between a user and an as...  \n",
       "19  Here's a conversation between a user and an as...  \n",
       "20  Here's a conversation between a user and an as...  \n",
       "21  Here's a conversation between a user and an as...  \n",
       "22  Here's a conversation between a user and an as...  \n",
       "23  Here's a conversation between a user and an as...  \n",
       "24  Here's a conversation between a user and an as...  \n",
       "25  Here's a conversation between a user and an as...  \n",
       "26  Here's a conversation between a user and an as...  \n",
       "27  Here's a conversation between a user and an as...  \n",
       "28  Here's a conversation between a user and an as...  \n",
       "29  Here's a conversation between a user and an as...  "
      ]
     },
     "execution_count": 52,
     "metadata": {},
     "output_type": "execute_result"
    }
   ],
   "source": [
    "import pandas as pd\n",
    "\n",
    "eval_df = pd.DataFrame(evaluation)\n",
    "eval_df.to_csv(\"evaluation.csv\", index=False)\n",
    "eval_df"
   ]
  },
  {
   "cell_type": "code",
   "execution_count": 53,
   "metadata": {},
   "outputs": [
    {
     "data": {
      "text/plain": [
       "3.566666666666667"
      ]
     },
     "execution_count": 53,
     "metadata": {},
     "output_type": "execute_result"
    }
   ],
   "source": [
    "# Calculate and print the average score\n",
    "eval_df['score'].mean()"
   ]
  }
 ],
 "metadata": {
  "kernelspec": {
   "display_name": "opencompass",
   "language": "python",
   "name": "python3"
  },
  "language_info": {
   "codemirror_mode": {
    "name": "ipython",
    "version": 3
   },
   "file_extension": ".py",
   "mimetype": "text/x-python",
   "name": "python",
   "nbconvert_exporter": "python",
   "pygments_lexer": "ipython3",
   "version": "3.9.19"
  }
 },
 "nbformat": 4,
 "nbformat_minor": 2
}
